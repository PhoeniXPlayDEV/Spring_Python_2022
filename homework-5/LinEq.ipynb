{
 "cells": [
  {
   "cell_type": "markdown",
   "metadata": {},
   "source": [
    "# Пятое домашнее задание\n",
    "---\n",
    "\n",
    "**Студент:** Феоктистов Владислав Сергеевич\n",
    "\n",
    "**Группа:** НПМбд-01-19\n",
    "\n",
    "\n",
    "\n",
    "\n",
    "\n",
    "## Предисловие\n",
    "\n",
    "Перед реализацией алгоритмов LU,LUP-разложений необходимо сделать некоторые приготовления. Сперва необходимо импортировать необходимые библиотеки для дальнейшей работы и создать класс **LinEq** (от linear equations), где будут реализованы все функции.\n",
    "\n",
    "**Код:**"
   ]
  },
  {
   "cell_type": "code",
   "execution_count": 7,
   "metadata": {},
   "outputs": [],
   "source": [
    "import numpy as np\n",
    "import scipy.linalg\n",
    "\n",
    "\n",
    "class LinEq:"
   ]
  },
  {
   "cell_type": "markdown",
   "metadata": {},
   "source": [
    "После добавим функцию **__swap_strings(A, i, j)** для перестановки строк i и j; функцию **__check_matrix(A)** для проверки исходной матрицы на невырожденность, размерность и соответсии квадратичной форме; а также функцию **convert_p_to_scipy(P)** для конвертации матрицы P из нашего LUP-разложения к матрицы P из функции scipy.linalg.lu() из библиотеки scipy (если матрица P не является диагональной, т.е. при транспонировании не дает ту же матрицу, то матрица P из scipy равна квадрату P нашей матрицы).\n",
    "\n",
    "**Код:**"
   ]
  },
  {
   "cell_type": "code",
   "execution_count": null,
   "metadata": {},
   "outputs": [],
   "source": [
    "@staticmethod\n",
    "def __swap_strings(A, i, j):\n",
    "    if not 0 <= i < A.shape[0] or not 0 <= j < A.shape[0]:\n",
    "        return None\n",
    "    if i == j:\n",
    "        return A\n",
    "    A[i], A[j] = A[j], np.copy(A[i])\n",
    "\n",
    "@staticmethod\n",
    "def __check_matrix(A):\n",
    "    if np.linalg.det(A) == 0:\n",
    "        raise Exception('Invalid matrix! Degenerate matrix!')\n",
    "    if A.shape[0] != A.shape[1]:\n",
    "        raise Exception('Invalid matrix! Not a square matrix!')\n",
    "    if A.shape[0] < 2:\n",
    "        raise Exception('Invalid matrix! Low-dimension matrix!')\n",
    "        \n",
    "@staticmethod\n",
    "def convert_p_to_scipy(P):\n",
    "    if np.any(P.transpose() != P):\n",
    "        return P @ P\n",
    "    return P"
   ]
  },
  {
   "cell_type": "markdown",
   "metadata": {},
   "source": [
    "## LU-разложение\n",
    "\n",
    "**LU-разложение (LU-декомпозиция, LU-факторизация)** — представление матрицы A в виде произведения двух матриц, A = LU, где L — нижняя треугольная матрица, а U — верхняя треугольная матрица.\n",
    "\n",
    "LU-разложение используется для решения систем линейных уравнений, обращения матриц и вычисления определителя. LU-разложение существует только в том случае, когда матрица A обратима, а все ведущие (угловые) главные миноры матрицы A невырождены.\n",
    "\n",
    "Этот метод является одной из разновидностей метода Гаусса.\n",
    "\n",
    "\n",
    "### Алгоритм нахождения матриц L и U\n",
    "\n",
    "Создаем копию U матрицы A и единичную матрицу L. Матрицу U мы будем приводить к ступенчатому виду по алгоритму Гаусса, а в матрицу L записывать коэффициенты умножения i-ой строки при переходе к ступенчатому виду (из j-ой строки вычитается i-ая строка, умноженная на коэффициент равный A[j, i] / A[i, i]).\n",
    "\n",
    "Коэффициенты для уможения i-ой строки (i-ый шаг преобразования, т.е. шаг обнуление строк под i-ой строкой в i-ом столбце) можно найти, поделив весь i-ый столбец под i-ой строкой на число A[i, i]. Таким образом, мы получили i-ый вектор коэффициентов преобразования, который необходимо подставить снизу вверх в i-ый столбец матрицы L.\n",
    "\n",
    "Далее необходимо вычесть из j-ых строк (j = i+1,...,n) i-ую строку, умноженную на L[i, j] (найденный коэффициент преобразования). Это можно сделать, вычтив поэлементно из квадранта, находящегося под i-ой строкой, квадрант равный поэлементному уможению i-го вектора преобразования на i-ую строку.\n",
    "\n",
    "**Код:**"
   ]
  },
  {
   "cell_type": "code",
   "execution_count": 14,
   "metadata": {},
   "outputs": [],
   "source": [
    "@staticmethod\n",
    "def lu_decomposition(A):\n",
    "    LinEq.__check_matrix(A)\n",
    "    n = A.shape[0]\n",
    "    U = np.copy(A)\n",
    "    L = np.identity(n)\n",
    "    for i in range(n - 1):\n",
    "        L[i + 1:, i] = U[:, i][i + 1:] / U[i, i]\n",
    "        U[i + 1:, ] -= L[i + 1:, i].reshape((n - i - 1, 1)) * U[i]\n",
    "    return L, U"
   ]
  },
  {
   "cell_type": "markdown",
   "metadata": {},
   "source": [
    "### Алгоритм решения системы уравнения методом LU-преобразования\n",
    "\n",
    "Полученное LU-разложение матрицы A (матрица коэффициентов системы) может быть использовано для решения семейства систем линейных уравнений с различными векторами b в правой части:\n",
    "\n",
    "\\begin{align} Ax = b \\end{align}\n",
    "\n",
    "Если известно LU-разложение матрицы A, A = LU, исходная система может быть записана как\n",
    "\n",
    "\\begin{align} LUx = b \\end{align}\n",
    "\n",
    "Эта система может быть решена в два шага. На первом шаге решается система\n",
    "\n",
    "\\begin{align} Ly = b \\end{align}\n",
    "\n",
    "Поскольку L — нижняя треугольная матрица, эта система решается непосредственно прямой подстановкой. Нулевой элемент вектора y будет равен нулевому элементу вектора b, т.к. A[0, 0] = 1, т.е. y[0] = b[0]. Последующие n-1 строк вектора y будут получаться путем вычитания из i-го элемента вектора b скалярного произведения i-ой строки c элементами от 0 до i-1 вектора y с элементами от 0 до i-1, т.е. того же размера.\n",
    "\n",
    "На втором шаге решается система\n",
    "\n",
    "\\begin{align} Ux = y \\end{align}\n",
    "\n",
    "Поскольку U — верхняя треугольная матрица, эта система решается непосредственно обратной подстановкой. Последний элемент вектора y будет равен последнему элементу вектора b, деленного на U[i, i], т.е. y[n - 1] = b[n - 1] / U[n - 1, n - 1]. Последующие n-1 строк вектора y будут получаться путем вычитания из i-го элемента вектора b скалярного произведения i-ой строки c элементами от i+1 до n-1 вектора y с элементами от i+1 до n-1, умноженного на 1 / U[i, i]. Вычисления здесь уже идут снизу вверх.\n",
    "\n",
    "**Код:**"
   ]
  },
  {
   "cell_type": "code",
   "execution_count": 17,
   "metadata": {},
   "outputs": [],
   "source": [
    "@staticmethod\n",
    "def __lu_solver(L, U, b):\n",
    "    n = b.shape[0]\n",
    "    y = np.zeros(n, dtype=float)\n",
    "    y[0] = b[0]\n",
    "    for i in range(1, n):\n",
    "        y[i] = b[i] - (L[i][:i] @ y[:i])\n",
    "\n",
    "    x = np.zeros(n, dtype=float)\n",
    "    x[n - 1] = y[n - 1] / U[n - 1, n - 1]\n",
    "    for i in range(n - 2, -1, -1):\n",
    "        x[i] = (y[i] - (U[i][i + 1:] @ x[i + 1:])) / U[i, i]\n",
    "    return x\n",
    "\n",
    "@staticmethod\n",
    "def lu_solver(A, b):\n",
    "    L, U = LinEq.lu_decomposition(A)\n",
    "    return LinEq.__lu_solver(L, U, b)"
   ]
  },
  {
   "cell_type": "markdown",
   "metadata": {},
   "source": [
    "Приватная функция **__lu_solver(L, U, b)** реализует алгоритм нахождения решения СЛАУ (системы линейных алгебраических уравнений) методом LU-разложения. В качестве параметров передаются уже найденные матрицы L и U, а также вектор b из системы. Эта функция в дальнейшем упростит алгорит решения СЛАУ методом LUP-разложения.\n",
    "\n",
    "Функция **lu_solver(A, b)** упрощает предыдущую функцию. В качестве параметров передаются только матрица A и вектор b.\n",
    "\n",
    "## LUP-разложение\n",
    "\n",
    "**LUP-разложение (LUP-декомпозиция)** — представление данной матрицы A в виде произведения PA = LU где матрица L является нижнетреугольной с единицами на главной диагонали, U — верхнетреугольная общего вида, а P — т. н. матрица перестановок, получаемая из единичной матрицы путём перестановки строк или столбцов. Такое разложение можно осуществить для любой невырожденной матрицы. LUP-разложение используется для вычисления обратной матрицы по компактной схеме, вычисления решения системы линейных уравнений. По сравнению с алгоритмом LU-разложения алгоритм LUP-разложения может обрабатывать любые невырожденные матрицы и при этом обладает более высокой вычислительной устойчивостью.\n",
    "\n",
    "### Метод нахождения матриц L, U и P\n",
    "\n",
    "Введем единичную матрицу P. Матрицы L и U находятся аналогичным образом, за исключением того, что вместе матрицей перестановок P будут перестанавливаться строки в матрицах L и U по следующему правилу: на каждом i-м шаге сначала производится поиск опорного (ведущего) элемента — максимального по модулю элемента среди элементов i-го столбца, находящихся не выше i-й строки, после чего строка с опорным элементом меняется местами с i-й строкой. Если матрица невырождена, то опорный элемент гарантированно будет отличен от нуля."
   ]
  },
  {
   "cell_type": "code",
   "execution_count": 19,
   "metadata": {},
   "outputs": [],
   "source": [
    "@staticmethod\n",
<<<<<<< HEAD
    "def lup_decomposition(A):\n",
    "    LinEq.__check_matrix(A)\n",
    "    n = A.shape[0]\n",
    "    U = np.copy(A)\n",
=======
    "def lup_decomposition(matrix):\n",
    "    LinEq.__check_matrix(matrix)\n",
    "    n = matrix.shape[0]\n",
    "    U = np.copy(matrix)\n",
>>>>>>> 374d0b5a32fce4f677d01a57ff843507100e4dbd
    "    L = np.zeros((n, n))\n",
    "    P = np.identity(n)\n",
    "    for i in range(n - 1):\n",
    "        col = U[:, i][i:]\n",
    "        pivot = np.argmax(np.abs(col)) + i\n",
    "        if pivot != i:\n",
    "            LinEq.__swap_strings(U, i, pivot)\n",
    "            LinEq.__swap_strings(L, i, pivot)\n",
    "            LinEq.__swap_strings(P, i, pivot)\n",
    "        L[i + 1:, i] = U[:, i][i + 1:] / U[i, i]\n",
    "        U[i + 1:, ] -= L[i + 1:, i].reshape((n - i - 1, 1)) * U[i]\n",
    "    return P, L + np.identity(n), U"
   ]
  },
  {
   "cell_type": "markdown",
   "metadata": {},
   "source": [
    "### Алгоритм решения системы уравнения методом LUP-преобразования\n",
    "\n",
    "Полученное LUP-разложение матрицы A может быть использовано для решения СЛАУ с различными векторами b в правой части:\n",
    "\n",
    "\\begin{align} Ax = b \\end{align}\n",
    "\n",
    "Если известно LUP-разложение матрицы A, A = P^(-1)*LU, исходная система может быть записана как\n",
    "\n",
    "\\begin{align} P^{-1}LUx = b \\end{align} или \\begin{align} LUx = Pb \\end{align}\n",
    "\n",
    "Эта система может быть решена в два шага. На первом шаге решается система\n",
    "\n",
    "\\begin{align} Ly = Pb \\end{align}\n",
    "\n",
    "Поскольку L — нижняя треугольная матрица, эта система решается непосредственно прямой подстановкой.\n",
    "\n",
    "На втором шаге решается система\n",
    "\n",
    "\\begin{align} Ux = y \\end{align}\n",
    "\n",
    "Поскольку U — верхняя треугольная матрица, эта система решается непосредственно обратной подстановкой.\n",
    "\n",
    "Как можно видеть, решение получается таким же, как и при решение СЛАУ методом LU-разложения, за исключением того, что нужно будет заменить b на Pb. Таким образом, для реализации функции нахождения решения СЛАУ методом LUP-разложения необходимо будет только использовать готовую функцию **__lu_solver(L, U, b)** c заменой b на Pb.\n",
    "\n",
    "**Код:**"
   ]
  },
  {
   "cell_type": "code",
   "execution_count": 26,
   "metadata": {},
   "outputs": [],
   "source": [
    "@staticmethod\n",
    "def lup_solver(A, b):\n",
    "    P, L, U = LinEq.lup_decomposition(A)\n",
    "    return LinEq.__lu_solver(L, U, P @ b)"
   ]
  },
  {
   "cell_type": "markdown",
   "metadata": {},
   "source": [
    "## Финальный вид класса LinEq"
   ]
  },
  {
   "cell_type": "code",
   "execution_count": 27,
   "metadata": {},
   "outputs": [],
   "source": [
    "import numpy as np\n",
    "import scipy.linalg\n",
    "\n",
    "\n",
    "class LinEq:\n",
    "\n",
    "    @staticmethod\n",
<<<<<<< HEAD
    "    def __check_matrix(A):\n",
    "        if np.linalg.det(A) == 0:\n",
    "            raise Exception('Invalid matrix! Degenerate matrix!')\n",
    "        if A.shape[0] != A.shape[1]:\n",
    "            raise Exception('Invalid matrix! Not a square matrix!')\n",
    "        if A.shape[0] < 2:\n",
    "            raise Exception('Invalid matrix! Low-dimension matrix!')\n",
    "\n",
    "    @staticmethod \n",
    "    def __swap_strings(A, i, j):\n",
    "        if not 0 <= i < A.shape[0] or not 0 <= j < A.shape[0]:\n",
    "            return None\n",
    "        if i == j:\n",
    "            return A\n",
    "        A[i], A[j] = A[j], np.copy(A[i])\n",
    "\n",
    "    @staticmethod\n",
    "    def lu_decomposition(A):\n",
    "        LinEq.__check_matrix(A)\n",
    "        n = A.shape[0]\n",
    "        U = np.copy(A)\n",
=======
    "    def __check_matrix(matrix):\n",
    "        if np.linalg.det(matrix) == 0:\n",
    "            raise Exception('Invalid matrix! Degenerate matrix!')\n",
    "        if matrix.shape[0] != matrix.shape[1]:\n",
    "            raise Exception('Invalid matrix! Not a square matrix!')\n",
    "        if matrix.shape[0] < 2:\n",
    "            raise Exception('Invalid matrix! Low-dimension matrix!')\n",
    "\n",
    "    @staticmethod \n",
    "    def __swap_strings(matrix, i, j):\n",
    "        if not 0 <= i < matrix.shape[0] or not 0 <= j < matrix.shape[0]:\n",
    "            return None\n",
    "        if i == j:\n",
    "            return matrix\n",
    "        matrix[i], matrix[j] = matrix[j], np.copy(matrix[i])\n",
    "\n",
    "    @staticmethod\n",
    "    def lu_decomposition(matrix):\n",
    "        LinEq.__check_matrix(matrix)\n",
    "        n = matrix.shape[0]\n",
    "        U = np.copy(matrix)\n",
>>>>>>> 374d0b5a32fce4f677d01a57ff843507100e4dbd
    "        L = np.identity(n)\n",
    "        for i in range(n - 1):\n",
    "            L[i + 1:, i] = U[:, i][i + 1:] / U[i, i]\n",
    "            U[i + 1:, ] -= L[i + 1:, i].reshape((n - i - 1, 1)) * U[i]\n",
    "        return L, U\n",
    "\n",
    "    @staticmethod\n",
<<<<<<< HEAD
    "    def lup_decomposition(A):\n",
    "        LinEq.__check_matrix(A)\n",
    "        n = A.shape[0]\n",
    "        U = np.copy(A)\n",
=======
    "    def lup_decomposition(matrix):\n",
    "        LinEq.__check_matrix(matrix)\n",
    "        n = matrix.shape[0]\n",
    "        U = np.copy(matrix)\n",
>>>>>>> 374d0b5a32fce4f677d01a57ff843507100e4dbd
    "        L = np.zeros((n, n))\n",
    "        P = np.identity(n)\n",
    "        for i in range(n - 1):\n",
    "            col = U[:, i][i:]\n",
    "            pivot = np.argmax(np.abs(col)) + i\n",
    "            if pivot != i:\n",
    "                LinEq.__swap_strings(U, i, pivot)\n",
    "                LinEq.__swap_strings(L, i, pivot)\n",
    "                LinEq.__swap_strings(P, i, pivot)\n",
    "            L[i + 1:, i] = U[:, i][i + 1:] / U[i, i]\n",
    "            U[i + 1:, ] -= L[i + 1:, i].reshape((n - i - 1, 1)) * U[i]\n",
    "        return P, L + np.identity(n), U\n",
    "\n",
    "    @staticmethod\n",
    "    def __lu_solver(L, U, b):\n",
    "        n = b.shape[0]\n",
    "        y = np.zeros(n, dtype=float)\n",
    "        y[0] = b[0]\n",
    "        for i in range(1, n):\n",
    "            y[i] = b[i] - (L[i][:i] @ y[:i])\n",
    "\n",
    "        x = np.zeros(n, dtype=float)\n",
    "        x[n - 1] = y[n - 1] / U[n - 1][n - 1]\n",
    "        for i in range(n - 2, -1, -1):\n",
    "            x[i] = (y[i] - (U[i][i + 1:] @ x[i + 1:])) / U[i, i]\n",
    "        return x\n",
    "\n",
    "    @staticmethod\n",
<<<<<<< HEAD
    "    def lu_solver(A, b):\n",
    "        L, U = LinEq.lu_decomposition(A)\n",
    "        return LinEq.__lu_solver(L, U, b)\n",
    "\n",
    "    @staticmethod\n",
    "    def lup_solver(A, b):\n",
    "        P, L, U = LinEq.lup_decomposition(A)\n",
=======
    "    def lu_solver(matrix, b):\n",
    "        L, U = LinEq.lu_decomposition(matrix)\n",
    "        return LinEq.__lu_solver(L, U, b)\n",
    "\n",
    "    @staticmethod\n",
    "    def lup_solver(matrix, b):\n",
    "        P, L, U = LinEq.lup_decomposition(matrix)\n",
>>>>>>> 374d0b5a32fce4f677d01a57ff843507100e4dbd
    "        return LinEq.__lu_solver(L, U, P @ b)\n",
    "\n",
    "    @staticmethod\n",
    "    def convert_p_to_scipy(P):\n",
    "        if np.any(P.transpose() != P):\n",
    "            return P @ P\n",
    "        return P"
   ]
  },
  {
   "cell_type": "markdown",
   "metadata": {},
   "source": [
    "## Проверка кода\n",
    "\n",
    "Для проверки можно взять любую невырожденную матрицу A и любой вектор b. Для проверки используются результаты работы функции scipy.linalg.lu() из библиотеки scipy. Наша матрица P конвертируется под стандарты используемой библиотеки, а некоторые переменные окргляются до 8го знака после запятой, чтобы избежать компьютерные ошибки при сравненнии и вычислении.\n",
    "\n",
    "Тесты реализованы с помощью инструкции assert с пояснениями при возникновении ошибки.\n",
    "\n",
    "**Код:**"
   ]
  },
  {
   "cell_type": "code",
<<<<<<< HEAD
   "execution_count": 31,
=======
   "execution_count": 29,
>>>>>>> 374d0b5a32fce4f677d01a57ff843507100e4dbd
   "metadata": {},
   "outputs": [
    {
     "name": "stdout",
     "output_type": "stream",
     "text": [
      "LU solution:\n",
      " [-0.66666667 -0.66666667  1.        ]\n",
      "\n",
      "LUP solution:\n",
      " [-0.66666667 -0.66666667  1.        ]\n",
      "\n",
      "All tests were successfully passed\n"
     ]
    }
   ],
   "source": [
    "if __name__ == \"__main__\":\n",
    "    A = np.array([\n",
    "        [1, 2, 3],\n",
    "        [4, 5, 6],\n",
    "        [7, 8, 10]\n",
    "    ], dtype=float)\n",
    "    b = np.array([1, 0, 0], dtype=float)\n",
    "\n",
    "    print('LU solution:\\n', LinEq.lu_solver(A, b))\n",
    "    print('\\nLUP solution:\\n', LinEq.lup_solver(A, b))\n",
    "\n",
    "    # Comparison with с scipy.linalg.lu()\n",
    "\n",
    "    P1, L1, U1 = LinEq.lup_decomposition(A)\n",
    "    P3 = LinEq.convert_p_to_scipy(P1)  # Converted matrix P1 to scipy standards\n",
    "    P2, L2, U2 = scipy.linalg.lu(A)\n",
    "    new_A = np.linalg.inv(P1) @ L1 @ U1\n",
    "\n",
    "    P3 = np.round(P3, 8)\n",
    "    L1 = np.round(L1, 8)\n",
    "    U1 = np.round(U1, 8)\n",
    "\n",
    "    P2 = np.round(P2, 8)\n",
    "    L2 = np.round(L2, 8)\n",
    "    U2 = np.round(U2, 8)\n",
    "\n",
    "    assert np.all(P3 == P2), '(Converted P1) not equals P2'\n",
    "    assert np.all(L1 == L2), 'L1 not equals L2'\n",
    "    assert np.all(U1 == U2), 'U1 not equals U2'\n",
    "\n",
    "    assert np.all(A == new_A), 'A not equals new_A'\n",
    "\n",
    "    print('\\nAll tests were successfully passed')"
   ]
  },
  {
   "cell_type": "markdown",
   "metadata": {},
   "source": [
    "## Итоги\n",
    "\n",
    "Как Вы можете убедиться на примере, все тесты были успешно пройдены.\n",
    "\n",
    "Во избежании деления на ноль при решении СЛАУ предпочтительнее выбирать LUP-разложение. В случае невырожденности матрицы A, гарантируется исключение возникновения этого рода ошибки. Чтобы убедиться в этом достаточно поменять в приведенном примере значение в первой строке первом столбце на 0. Важно отметить, что ошибка деления на ноль при использовании LU-разложения может возникнуть в процессе работы, когда при переходе матрицы к ступенчатому виду на главной диагонали появится ноль."
   ]
  }
 ],
 "metadata": {
  "kernelspec": {
   "display_name": "Python 3",
   "language": "python",
   "name": "python3"
  },
  "language_info": {
   "codemirror_mode": {
    "name": "ipython",
    "version": 3
   },
   "file_extension": ".py",
   "mimetype": "text/x-python",
   "name": "python",
   "nbconvert_exporter": "python",
   "pygments_lexer": "ipython3",
   "version": "3.7.6"
  }
 },
 "nbformat": 4,
 "nbformat_minor": 4
}
