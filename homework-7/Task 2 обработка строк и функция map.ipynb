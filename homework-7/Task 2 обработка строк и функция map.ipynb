{
 "cells": [
  {
   "cell_type": "markdown",
   "metadata": {},
   "source": [
    "# Задание 1. Обработка строк и функция map.\n",
    "\n",
    "В этом задании нельзя использовать циклы – используйте срезы, дополнительные списки, методы строк, функцию map. Для каждого упражнения написано, какое наибольшее число строк может быть в программе. Как правило, ограничения в 1-3 строки. \n",
    "\n",
    "Если программа решается в одну строку, то необходимо использовать функции внутри функций. Например, вот так можно вычислить сумму всех чисел, введенных в строку, используя стандартную функцию sum: \n",
    "\n",
    "**print(sum(map(int, input().split())))** \n",
    "\n",
    "Обратите внимание, в однострочном решении нельзя сохранять список в переменной - нужно сразу же его обработать и вывести результат. \n",
    "\n",
    "Решение в две строки, как правило, должно иметь следующий вид: \n",
    "\n",
    "**A = input().split()**\n",
    "\n",
    "**print(' '.join(...))** \n",
    "\n",
    "При этом зачастую не требуется преобразовывать элементы списка к типу int. \n",
    "\n",
    "Решение в три строки, как правило, должно иметь следующий вид: \n",
    "\n",
    "**A = input().split()** \n",
    "\n",
    "**A = ...** \n",
    "\n",
    "**print(' '.join(...))**"
   ]
  },
  {
   "cell_type": "code",
   "execution_count": 2,
   "metadata": {},
   "outputs": [],
   "source": [
    "import numpy as np"
   ]
  },
  {
   "cell_type": "markdown",
   "metadata": {},
   "source": [
    "---\n",
    "\n",
    "### 1. Четные индексы. \n",
    "\n",
    "**Условия:** решить задачу в одну строку \n",
    "\n",
    "**Ввод:** 1 2 3 4 5\n",
    "\n",
    "**Вывод:** 1 3 5"
   ]
  },
  {
   "cell_type": "code",
   "execution_count": 4,
   "metadata": {},
   "outputs": [
    {
     "name": "stdout",
     "output_type": "stream",
     "text": [
      "1 2 3 4 5\n",
      "1 3 5\n"
     ]
    }
   ],
   "source": [
    "print(*list(map(int, input().split()))[0::2])"
   ]
  },
  {
   "cell_type": "markdown",
   "metadata": {},
   "source": [
    "### 2. Наибольший элемент и его индекс.\n",
    "\n",
    "**Условия:** решить задачу в две строки \n",
    "\n",
    "**Ввод:** 1 2 3 2 1\n",
    "\n",
    "**Вывод:** 3 2"
   ]
  },
  {
   "cell_type": "code",
   "execution_count": 6,
   "metadata": {},
   "outputs": [
    {
     "name": "stdout",
     "output_type": "stream",
     "text": [
      "1 2 3 2 1\n",
      "3 2\n"
     ]
    }
   ],
   "source": [
    "A = list(map(int, input().split()))\n",
    "print(max(A), A.index(max(A)))"
   ]
  },
  {
   "cell_type": "markdown",
   "metadata": {},
   "source": [
    "### 3. Вывести в обратном порядке.\n",
    "\n",
    "**Условия:** решить задачу в одну строку \n",
    "\n",
    "**Ввод:** 1 2 3 4 5\n",
    "\n",
    "**Вывод:** 5 4 3 2 1"
   ]
  },
  {
   "cell_type": "code",
   "execution_count": 7,
   "metadata": {},
   "outputs": [
    {
     "name": "stdout",
     "output_type": "stream",
     "text": [
      "1 2 3 4 5\n",
      "5 4 3 2 1\n"
     ]
    }
   ],
   "source": [
    "print(*list(map(int, input().split()))[::-1])"
   ]
  },
  {
   "cell_type": "markdown",
   "metadata": {},
   "source": [
    "### 4. Переставить соседние.\n",
    "\n",
    "**Условия:** решить задачу в три строки \n",
    "\n",
    "**Ввод:** 1 2 3 4 5\n",
    "\n",
    "**Вывод:** 2 1 4 3 5"
   ]
  },
  {
   "cell_type": "code",
   "execution_count": 2,
   "metadata": {},
   "outputs": [
    {
     "name": "stdout",
     "output_type": "stream",
     "text": [
      "1 2 3 4 5\n",
      "2 1 4 3 5\n"
     ]
    }
   ],
   "source": [
    "A = list(map(int, input().split()))\n",
    "A[: -1 : 2], A[1::2] = A[1::2], A[: -1 : 2]\n",
    "print(*A)"
   ]
  },
  {
   "cell_type": "markdown",
   "metadata": {},
   "source": [
    "### 5. Циклический сдвиг вправо.\n",
    "\n",
    "**Условия:** решить задачу в две строки \n",
    "\n",
    "**Ввод:** 1 2 3 4 5\n",
    "\n",
    "**Вывод:** 5 1 2 3 4"
   ]
  },
  {
   "cell_type": "code",
   "execution_count": 5,
   "metadata": {},
   "outputs": [
    {
     "name": "stdout",
     "output_type": "stream",
     "text": [
      "1 2 3 4 5\n",
      "5 1 2 3 4\n"
     ]
    }
   ],
   "source": [
    "A = list(map(int, input().split()))\n",
    "print(*np.append(A[-1], A[:len(A) - 1]))"
   ]
  },
  {
   "cell_type": "code",
   "execution_count": 6,
   "metadata": {},
   "outputs": [
    {
     "name": "stdout",
     "output_type": "stream",
     "text": [
      "1 2 3 4 5\n",
      "5 1 2 3 4\n"
     ]
    }
   ],
   "source": [
    "A = list(map(int, input().split()))\n",
    "print(*np.roll(A, 1))"
   ]
  },
  {
   "cell_type": "markdown",
   "metadata": {},
   "source": [
    "### 6. Удалить элемент.\n",
    "\n",
    "**Условия:** решить задачу в три строки \n",
    "\n",
    "**Ввод:** \n",
    "\n",
    "7 6 5 4 3 2 1\n",
    "\n",
    "2\n",
    "\n",
    "**Вывод:** 7 6 4 3 2 1"
   ]
  },
  {
   "cell_type": "code",
   "execution_count": 7,
   "metadata": {},
   "outputs": [
    {
     "name": "stdout",
     "output_type": "stream",
     "text": [
      "7 6 5 4 3 2 1\n",
      "2\n",
      "7 6 4 3 2 1\n"
     ]
    }
   ],
   "source": [
    "A = list(map(int, input().split()))\n",
    "n = int(input())\n",
    "print(*np.append(A[:n], A[n + 1:]))"
   ]
  },
  {
   "cell_type": "code",
   "execution_count": 8,
   "metadata": {},
   "outputs": [
    {
     "name": "stdout",
     "output_type": "stream",
     "text": [
      "7 6 5 4 3 2 1\n",
      "2\n",
      "7 6 4 3 2 1\n"
     ]
    }
   ],
   "source": [
    "A = list(map(int, input().split()))\n",
    "print(*np.delete(A, int(input())))"
   ]
  },
  {
   "cell_type": "markdown",
   "metadata": {},
   "source": [
    "### 7. Вставить элемент.\n",
    "\n",
    "**Условия:** решить задачу в три строки \n",
    "\n",
    "**Ввод:** \n",
    "\n",
    "7 6 5 4 3 2 1\n",
    "\n",
    "2 0\n",
    "\n",
    "**Вывод:** 7 6 0 5 4 3 2 1\n",
    "\n",
    "**Подсказка:** Вторая строка - такая: n, elem = map(int, input().split())"
   ]
  },
  {
   "cell_type": "code",
   "execution_count": 17,
   "metadata": {},
   "outputs": [
    {
     "name": "stdout",
     "output_type": "stream",
     "text": [
      "7 6 5 4 3 2 1\n",
      "2 0\n",
      "7 6 0 5 4 3 2 1\n"
     ]
    }
   ],
   "source": [
    "A = list(map(int, input().split()))\n",
    "n, elem = map(int, input().split())\n",
    "print(*np.append(np.append(A[:n], elem), A[n:]))"
   ]
  },
  {
   "cell_type": "code",
   "execution_count": 18,
   "metadata": {},
   "outputs": [
    {
     "name": "stdout",
     "output_type": "stream",
     "text": [
      "7 6 5 4 3 2 1\n",
      "2 0\n",
      "7 6 0 5 4 3 2 1\n"
     ]
    }
   ],
   "source": [
    "A = list(map(int, input().split()))\n",
    "n, elem = map(int, input().split())\n",
    "print(*np.insert(A, n, elem))"
   ]
  },
  {
   "cell_type": "markdown",
   "metadata": {},
   "source": [
    "### 8. Большой сдвиг.\n",
    "\n",
    "**Условия:** решить задачу в две строки \n",
    "\n",
    "**Ввод:** \n",
    "\n",
    "5 3 7 4 6\n",
    "\n",
    "3\n",
    "\n",
    "**Вывод:** 7 4 6 5 3"
   ]
  },
  {
   "cell_type": "code",
   "execution_count": 3,
   "metadata": {},
   "outputs": [
    {
     "name": "stdout",
     "output_type": "stream",
     "text": [
      "5 3 7 4 6\n",
      "3\n",
      "7 4 6 5 3\n"
     ]
    }
   ],
   "source": [
    "A = list(map(int, input().split()))\n",
    "print(*np.roll(A, int(input())))"
   ]
  }
 ],
 "metadata": {
  "kernelspec": {
   "display_name": "Python 3",
   "language": "python",
   "name": "python3"
  },
  "language_info": {
   "codemirror_mode": {
    "name": "ipython",
    "version": 3
   },
   "file_extension": ".py",
   "mimetype": "text/x-python",
   "name": "python",
   "nbconvert_exporter": "python",
   "pygments_lexer": "ipython3",
   "version": "3.7.6"
  }
 },
 "nbformat": 4,
 "nbformat_minor": 4
}
