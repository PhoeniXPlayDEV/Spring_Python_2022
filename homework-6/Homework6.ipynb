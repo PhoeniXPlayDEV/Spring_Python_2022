{
 "cells": [
  {
   "cell_type": "markdown",
   "metadata": {},
   "source": [
    "## 6-е домашнее задание - Библиотека numpy\n",
    "\n",
    "**Студент:** Феоктистов Владислав Сергеевич\n",
    "\n",
    "**Группа:** НПМбд-01-19"
   ]
  },
  {
   "cell_type": "markdown",
   "metadata": {},
   "source": [
    "1.\tСоздайте равномерное разбиение интервала от -1.3 до 2.5 на 64 отрезка."
   ]
  },
  {
   "cell_type": "code",
   "execution_count": 2,
   "metadata": {},
   "outputs": [
    {
     "data": {
      "text/plain": [
       "array([-1.3       , -1.23968254, -1.17936508, -1.11904762, -1.05873016,\n",
       "       -0.9984127 , -0.93809524, -0.87777778, -0.81746032, -0.75714286,\n",
       "       -0.6968254 , -0.63650794, -0.57619048, -0.51587302, -0.45555556,\n",
       "       -0.3952381 , -0.33492063, -0.27460317, -0.21428571, -0.15396825,\n",
       "       -0.09365079, -0.03333333,  0.02698413,  0.08730159,  0.14761905,\n",
       "        0.20793651,  0.26825397,  0.32857143,  0.38888889,  0.44920635,\n",
       "        0.50952381,  0.56984127,  0.63015873,  0.69047619,  0.75079365,\n",
       "        0.81111111,  0.87142857,  0.93174603,  0.99206349,  1.05238095,\n",
       "        1.11269841,  1.17301587,  1.23333333,  1.29365079,  1.35396825,\n",
       "        1.41428571,  1.47460317,  1.53492063,  1.5952381 ,  1.65555556,\n",
       "        1.71587302,  1.77619048,  1.83650794,  1.8968254 ,  1.95714286,\n",
       "        2.01746032,  2.07777778,  2.13809524,  2.1984127 ,  2.25873016,\n",
       "        2.31904762,  2.37936508,  2.43968254,  2.5       ])"
      ]
     },
     "execution_count": 2,
     "metadata": {},
     "output_type": "execute_result"
    }
   ],
   "source": [
    "import numpy as np\n",
    "np.linspace(-1.3, 2.5, 64)"
   ]
  },
  {
   "cell_type": "markdown",
   "metadata": {},
   "source": [
    "2.\tСгенерируйте numpy массив длины $3n$, заполненный циклически числами 1, 2, 3, 1, 2, 3, 1...."
   ]
  },
  {
   "cell_type": "code",
   "execution_count": 6,
   "metadata": {},
   "outputs": [
    {
     "data": {
      "text/plain": [
       "array([1, 2, 3, 1, 2, 3, 1, 2, 3, 1, 2, 3, 1, 2, 3, 1, 2, 3, 1, 2, 3, 1,\n",
       "       2, 3, 1, 2, 3, 1, 2, 3], dtype=int32)"
      ]
     },
     "execution_count": 6,
     "metadata": {},
     "output_type": "execute_result"
    }
   ],
   "source": [
    "import numpy as np\n",
    "n = 10\n",
    "np.arange(3*n) % 3 + 1"
   ]
  },
  {
   "cell_type": "markdown",
   "metadata": {},
   "source": [
    "3.\tСоздайте массив первых 10 нечетных целых чисел."
   ]
  },
  {
   "cell_type": "code",
   "execution_count": 7,
   "metadata": {},
   "outputs": [
    {
     "data": {
      "text/plain": [
       "array([ 1,  3,  5,  7,  9, 11, 13, 15, 17, 19])"
      ]
     },
     "execution_count": 7,
     "metadata": {},
     "output_type": "execute_result"
    }
   ],
   "source": [
    "import numpy as np\n",
    "np.arange(1, 20, 2)"
   ]
  },
  {
   "cell_type": "markdown",
   "metadata": {},
   "source": [
    "4.  Создайте массив нулей размера 10 x 10, а затем создайте в нём \"рамку\" из единиц по краям."
   ]
  },
  {
   "cell_type": "code",
   "execution_count": 16,
   "metadata": {},
   "outputs": [
    {
     "data": {
      "text/plain": [
       "array([[1., 1., 1., 1., 1., 1., 1., 1., 1., 1.],\n",
       "       [1., 0., 0., 0., 0., 0., 0., 0., 0., 1.],\n",
       "       [1., 0., 0., 0., 0., 0., 0., 0., 0., 1.],\n",
       "       [1., 0., 0., 0., 0., 0., 0., 0., 0., 1.],\n",
       "       [1., 0., 0., 0., 0., 0., 0., 0., 0., 1.],\n",
       "       [1., 0., 0., 0., 0., 0., 0., 0., 0., 1.],\n",
       "       [1., 0., 0., 0., 0., 0., 0., 0., 0., 1.],\n",
       "       [1., 0., 0., 0., 0., 0., 0., 0., 0., 1.],\n",
       "       [1., 0., 0., 0., 0., 0., 0., 0., 0., 1.],\n",
       "       [1., 1., 1., 1., 1., 1., 1., 1., 1., 1.]])"
      ]
     },
     "execution_count": 16,
     "metadata": {},
     "output_type": "execute_result"
    }
   ],
   "source": [
    "import numpy as np\n",
    "Z = np.zeros((10, 10))\n",
    "Z[::9,:] = 1\n",
    "Z[1:9,::9] = 1\n",
    "Z"
   ]
  },
  {
   "cell_type": "markdown",
   "metadata": {},
   "source": [
    "5.  Создайте массив 8 x 8 с шахматной доской из нулей и единиц."
   ]
  },
  {
   "cell_type": "code",
   "execution_count": 20,
   "metadata": {},
   "outputs": [
    {
     "data": {
      "text/plain": [
       "array([[1., 0., 1., 0., 1., 0., 1., 0.],\n",
       "       [0., 1., 0., 1., 0., 1., 0., 1.],\n",
       "       [1., 0., 1., 0., 1., 0., 1., 0.],\n",
       "       [0., 1., 0., 1., 0., 1., 0., 1.],\n",
       "       [1., 0., 1., 0., 1., 0., 1., 0.],\n",
       "       [0., 1., 0., 1., 0., 1., 0., 1.],\n",
       "       [1., 0., 1., 0., 1., 0., 1., 0.],\n",
       "       [0., 1., 0., 1., 0., 1., 0., 1.]])"
      ]
     },
     "execution_count": 20,
     "metadata": {},
     "output_type": "execute_result"
    }
   ],
   "source": [
    "import numpy as np\n",
    "Z = np.zeros((8, 8))\n",
    "Z[1::2,1::2] = 1\n",
    "Z[::2,::2] = 1\n",
    "Z"
   ]
  },
  {
   "cell_type": "markdown",
   "metadata": {},
   "source": [
    "6.  Создайте функцию, которая создает $n×n$ матрицу с $(i,j)$-элементом, равным $i+j$."
   ]
  },
  {
   "cell_type": "code",
   "execution_count": 25,
   "metadata": {},
   "outputs": [
    {
     "data": {
      "text/plain": [
       "array([[ 0,  1,  2,  3,  4,  5,  6,  7,  8,  9],\n",
       "       [ 1,  2,  3,  4,  5,  6,  7,  8,  9, 10],\n",
       "       [ 2,  3,  4,  5,  6,  7,  8,  9, 10, 11],\n",
       "       [ 3,  4,  5,  6,  7,  8,  9, 10, 11, 12],\n",
       "       [ 4,  5,  6,  7,  8,  9, 10, 11, 12, 13],\n",
       "       [ 5,  6,  7,  8,  9, 10, 11, 12, 13, 14],\n",
       "       [ 6,  7,  8,  9, 10, 11, 12, 13, 14, 15],\n",
       "       [ 7,  8,  9, 10, 11, 12, 13, 14, 15, 16],\n",
       "       [ 8,  9, 10, 11, 12, 13, 14, 15, 16, 17],\n",
       "       [ 9, 10, 11, 12, 13, 14, 15, 16, 17, 18]], dtype=int32)"
      ]
     },
     "execution_count": 25,
     "metadata": {},
     "output_type": "execute_result"
    }
   ],
   "source": [
    "def create_matrix(n):\n",
    "    A = np.arange(n**2)\n",
    "    return (A // n + A % n).reshape(n, n)\n",
    "\n",
    "create_matrix(10)"
   ]
  },
  {
   "cell_type": "markdown",
   "metadata": {},
   "source": [
    "7. Примените функцию dot для перемножения вектор на вектор, матрицу на вектор и матрицу на матрицу."
   ]
  },
  {
   "cell_type": "code",
   "execution_count": 36,
   "metadata": {},
   "outputs": [
    {
     "name": "stdout",
     "output_type": "stream",
     "text": [
      "V1 x V2 = 70\n",
      "A x B =\n",
      " [[150 160 170 180 190]\n",
      " [350 376 402 428 454]\n",
      " [550 592 634 676 718]]\n"
     ]
    }
   ],
   "source": [
    "import numpy as np\n",
    "\n",
    "V1 = np.arange(1, 5)\n",
    "V2 = np.arange(5, 9)\n",
    "print('V1 x V2 =', np.dot(V1, V2))\n",
    "\n",
    "A = np.arange(1, 13).reshape((3, 4))\n",
    "B = np.arange(5, 25).reshape((4, 5))\n",
    "print('A x B =\\n', np.dot(A, B))"
   ]
  },
  {
   "cell_type": "markdown",
   "metadata": {},
   "source": [
    "8. Вычислите cos(x) и sin(x) на интервале [0,1] с шагом $0.05$, а затем объедините оба массива чисел как строки в один массив."
   ]
  },
  {
   "cell_type": "code",
   "execution_count": 59,
   "metadata": {},
   "outputs": [
    {
     "name": "stdout",
     "output_type": "stream",
     "text": [
      "sin = [1.         0.99875026 0.99500417 0.98877108 0.98006658 0.96891242\n",
      " 0.95533649 0.93937271 0.92106099 0.9004471  0.87758256 0.85252452\n",
      " 0.82533561 0.7960838  0.76484219 0.73168887 0.69670671 0.65998315\n",
      " 0.62160997 0.58168309 0.54030231] \n",
      "cos = [0.         0.04997917 0.09983342 0.14943813 0.19866933 0.24740396\n",
      " 0.29552021 0.34289781 0.38941834 0.43496553 0.47942554 0.52268723\n",
      " 0.56464247 0.60518641 0.64421769 0.68163876 0.71735609 0.75128041\n",
      " 0.78332691 0.8134155  0.84147098]\n"
     ]
    },
    {
     "data": {
      "text/plain": [
       "array([1.        , 0.99875026, 0.99500417, 0.98877108, 0.98006658,\n",
       "       0.96891242, 0.95533649, 0.93937271, 0.92106099, 0.9004471 ,\n",
       "       0.87758256, 0.85252452, 0.82533561, 0.7960838 , 0.76484219,\n",
       "       0.73168887, 0.69670671, 0.65998315, 0.62160997, 0.58168309,\n",
       "       0.54030231, 0.        , 0.04997917, 0.09983342, 0.14943813,\n",
       "       0.19866933, 0.24740396, 0.29552021, 0.34289781, 0.38941834,\n",
       "       0.43496553, 0.47942554, 0.52268723, 0.56464247, 0.60518641,\n",
       "       0.64421769, 0.68163876, 0.71735609, 0.75128041, 0.78332691,\n",
       "       0.8134155 , 0.84147098])"
      ]
     },
     "execution_count": 59,
     "metadata": {},
     "output_type": "execute_result"
    }
   ],
   "source": [
    "import numpy as np\n",
    "X = np.linspace(0, 1, int(1/0.05)+1)\n",
    "C = np.cos(X)\n",
    "S = np.sin(X)\n",
    "print('sin =', C, '\\ncos =', S)\n",
    "np.hstack([C, S])"
   ]
  },
  {
   "cell_type": "markdown",
   "metadata": {},
   "source": [
    "10. Найдите сумму всех элементов, сумму внутри строк, сумму внутри столбцов, а также среднее значение, дисперсию и стандартное отклонение чисел для каждой строки матрицы $A$. (Подобно тому, как sorted имеет необязательный аргумент key=, многие функции Numpy имеют необязательный аргумент axis=)\n"
   ]
  },
  {
   "cell_type": "code",
   "execution_count": 88,
   "metadata": {},
   "outputs": [
    {
     "name": "stdout",
     "output_type": "stream",
     "text": [
      "sum: 78\n",
      "sum by rows: [10 26 42]\n",
      "sum by columns: [15 18 21 24]\n",
      "average by rows: [ 2.5  6.5 10.5]\n",
      "Dispersion by rows: [1.25 1.25 1.25]\n",
      "Standard deviation by rows: [1.11803399 1.11803399 1.11803399]\n"
     ]
    }
   ],
   "source": [
    "import numpy as np\n",
    "A = np.arange(1,13).reshape(3, 4)\n",
    "sum = np.sum(A)\n",
    "sum_row = np.sum(A, axis=-1)\n",
    "sum_col = np.sum(A.transpose(), axis=-1)\n",
    "aver = np.average(A, axis=-1)\n",
    "#D = np.sum((A - aver.reshape(aver.shape[0], 1))**2, axis=-1) / A.shape[1]\n",
    "D = np.var(A, axis=-1, dtype=float)\n",
    "sigma = np.sqrt(D)\n",
    "print('sum:', sum)\n",
    "print('sum by rows:', sum_row)\n",
    "print('sum by columns:', sum_col)\n",
    "print('average by rows:', aver)\n",
    "print('Dispersion by rows:', D)\n",
    "print('Standard deviation by rows:', sigma)"
   ]
  },
  {
   "cell_type": "markdown",
   "metadata": {},
   "source": [
    "11.  Отнимите от каждого элемента матрицы $A$ среднее по строке и поделите на стандартное отклонение строки."
   ]
  },
  {
   "cell_type": "code",
   "execution_count": 91,
   "metadata": {},
   "outputs": [
    {
     "name": "stdout",
     "output_type": "stream",
     "text": [
      "[[-1.34164079 -0.4472136   0.4472136   1.34164079]\n",
      " [-1.34164079 -0.4472136   0.4472136   1.34164079]\n",
      " [-1.34164079 -0.4472136   0.4472136   1.34164079]]\n"
     ]
    }
   ],
   "source": [
    "import numpy as np\n",
    "A = np.arange(1,13).reshape(3, 4)\n",
    "aver = np.average(A, axis=-1)\n",
    "sigma = np.sqrt(np.var(A, axis=-1, dtype=float))\n",
    "print((A - aver.reshape(len(aver), 1)) / sigma.reshape(len(sigma), 1))"
   ]
  },
  {
   "cell_type": "markdown",
   "metadata": {},
   "source": [
    "12. Отсортируйте матрицу $A$ по 3-ому столбцу, т.е. поменяйте местами строки матрицы так, чтобы 3-й столбец оказался отсортированным. Используйте для этого slicing + argsort + indexing."
   ]
  },
  {
   "cell_type": "code",
   "execution_count": 98,
   "metadata": {},
   "outputs": [
    {
     "data": {
      "text/plain": [
       "array([[10,  6,  2],\n",
       "       [11,  7,  3],\n",
       "       [12,  8,  4],\n",
       "       [13,  9,  5]])"
      ]
     },
     "execution_count": 98,
     "metadata": {},
     "output_type": "execute_result"
    }
   ],
   "source": [
    "import numpy as np\n",
    "A = np.arange(13,1,-1).reshape(3, 4).transpose()\n",
    "A[A[:, 2].argsort()]"
   ]
  },
  {
   "cell_type": "markdown",
   "metadata": {},
   "source": [
    "13. Посчитайте две матрицы: $B = A^TA$ и $C = AA^T$. Что вы можете о них сказать? Какого они размера? В чём их сходство и отличие?"
   ]
  },
  {
   "cell_type": "code",
   "execution_count": 101,
   "metadata": {},
   "outputs": [
    {
     "name": "stdout",
     "output_type": "stream",
     "text": [
      "Matrix B:\n",
      " [[107 122 137 152]\n",
      " [122 140 158 176]\n",
      " [137 158 179 200]\n",
      " [152 176 200 224]] \n",
      "Shape: (4, 4)\n",
      "Matrix C:\n",
      " [[ 30  70 110]\n",
      " [ 70 174 278]\n",
      " [110 278 446]] \n",
      "Shape: (3, 3)\n"
     ]
    }
   ],
   "source": [
    "import numpy as np\n",
    "A = np.arange(1,13).reshape(3, 4)\n",
    "B = A.transpose() @ A\n",
    "C = A @ A.transpose()\n",
    "print('Matrix B:\\n', B, '\\nShape:', B.shape)\n",
    "print('Matrix C:\\n', C, '\\nShape:', C.shape)\n",
    "\n",
    "# Сходства: обе матрицы квадратные, одинаковая сумма по диагонали\n",
    "# Различия: размер матрицы B 4x4, а С - 3x3"
   ]
  },
  {
   "cell_type": "markdown",
   "metadata": {},
   "source": [
    "14. Найдите сумму диагональных элементов матриц $B$ и $C$."
   ]
  },
  {
   "cell_type": "code",
   "execution_count": 109,
   "metadata": {},
   "outputs": [
    {
     "name": "stdout",
     "output_type": "stream",
     "text": [
      "The sum of the diagonal elements of the matrix B: 650\n",
      "The sum of the diagonal elements of the matrix C: 650\n"
     ]
    }
   ],
   "source": [
    "import numpy as np\n",
    "A = np.arange(1,13).reshape(3, 4)\n",
    "B = A.transpose() @ A\n",
    "C = A @ A.transpose()\n",
    "sum_B = np.sum(np.diagonal(B))\n",
    "sum_C = np.sum(np.diagonal(C))\n",
    "print('The sum of the diagonal elements of the matrix B:', sum_B)\n",
    "print('The sum of the diagonal elements of the matrix C:', sum_C)"
   ]
  },
  {
   "cell_type": "markdown",
   "metadata": {},
   "source": [
    "15.\tПосчитайте детерминант и ранг матриц $A$, $B$ и $C$, посмотрите на спектр (набор собственных значений) матриц $B$ и $C$, какие выводы вы можете сделать?  \n",
    "(подсказка: используйте готовые функции из библиотеки np.linalg). \n"
   ]
  },
  {
   "cell_type": "code",
   "execution_count": 4,
   "metadata": {},
   "outputs": [
    {
     "name": "stdout",
     "output_type": "stream",
     "text": [
      "The matrix A:\n",
      " [[ 1  2  3  4]\n",
      " [ 5  6  7  8]\n",
      " [ 9 10 11 12]] \n",
      "rank(A) = 2 \n",
      "det(A) = не определен\n",
      "\n",
      "The matrix B:\n",
      " [[107 122 137 152]\n",
      " [122 140 158 176]\n",
      " [137 158 179 200]\n",
      " [152 176 200 224]] \n",
      "rank(B) = 2 \n",
      "det(B) = 0.0\n",
      "\n",
      "The matrix C:\n",
      " [[ 30  70 110]\n",
      " [ 70 174 278]\n",
      " [110 278 446]] \n",
      "rank(C) = 2 \n",
      "det(C) = 0.0\n"
     ]
    }
   ],
   "source": [
    "import numpy as np\n",
    "A = np.arange(1,13).reshape(3, 4)\n",
    "B = A.transpose() @ A\n",
    "C = A @ A.transpose()\n",
    "rank_A = np.linalg.matrix_rank(A)\n",
    "rank_B = np.linalg.matrix_rank(B)\n",
    "rank_C = np.linalg.matrix_rank(C)\n",
    "\n",
    "try:\n",
    "    det_A = np.linalg.det(A)\n",
    "except:\n",
    "    det_A = \"не определен\"\n",
    "det_B = np.linalg.det(B) # B - квадратная матрица\n",
    "det_C = np.linalg.det(C) # C - квадратная матрица \n",
    "\n",
    "print('The matrix A:\\n', A, '\\nrank(A) =', rank_A, '\\ndet(A) =', det_A, end='\\n\\n')\n",
    "print('The matrix B:\\n', B, '\\nrank(B) =', rank_B, '\\ndet(B) =', det_B, end='\\n\\n')\n",
    "print('The matrix C:\\n', C, '\\nrank(C) =', rank_C, '\\ndet(C) =', det_C)"
   ]
  },
  {
   "cell_type": "markdown",
   "metadata": {},
   "source": [
    "16. Численно посчитать определённый интеграл  3-мя методами:  \n",
    "a)\tПрямоугольников $\\int\\limits_a^b {f(x)dx \\approx \\Delta x\\sum\\limits_{k = 0}^N {f({x_k})} }$  \n",
    "b)\tТрапеций $\\int\\limits_a^b {f(x)dx \\approx \\frac{{\\Delta x}}{2}\\left( {f({x_0}) + 2\\sum\\limits_{k = 1}^{N - 1} {f({x_k})}  + f({x_N})} \\right)}$  \n",
    "c)\tПо правилу Симпсона  $\\int\\limits_a^b {f(x)dx \\approx \\frac{{\\Delta x}}{3}\\left( {f({x_0}) + 2\\sum\\limits_{k = 1}^{N/2 - 1} {f({x_{2k}})}  + 4\\sum\\limits_{k = 1}^{N/2} {f({x_{2k - 1}})}  + f({x_N})} \\right)}$  \n",
    "\n",
    "\n",
    "В реализации этих методов цикл for для суммирования использовать нельзя.  \n",
    "Нужно посчитать значение интеграла с некоторым шагом интегрирования (например начать с 0.1), потом уменьшить его в десять раз и ещё раз посчитать и так до тех пор пока отличие в ответах будет в 5-м знаке после запятой, т.е. чтобы ошибка была меньше 1e-5. Получить ответы для 3-х разных методов и сделать соответствующие выводы.  \n",
    "\n",
    "Далее необходимо сравнить полученные оценки с аналитическим решением (т.е. формульным, которое вы должны сами посчитать на листочке и вбить формулу-ответ).   \n",
    "\n",
    "В качестве интеграла взять один из следующих с номером, сгенерированным случайным образом с помощью функции np.random.randint(10), в качестве seed для генератора случайных чисел взять номер своего студенческого билета.\n",
    "\n",
    "<table width=\"80%\"\n",
    "       align=\"center\">\n",
    "    <tr>\n",
    "        <td> 0) $\\int\\limits_3^4 {\\frac{{{x^2} + 3}}{{x - 2}}dx}$ </td>\n",
    "        <td> 1) $\\int\\limits_{ - 2}^{ - 1} {\\frac{{x + 1}}{{{x^3} - {x^2}}}dx}$ </td>\n",
    "        <td> 2) $\\int\\limits_1^2 {\\frac{{{e^{1/{x^2}}}}}{{{x^3}}}dx}$ </td>\n",
    "        <td> 3) $\\int\\limits_1^e {\\frac{{\\cos (\\ln x)}}{x}dx}$ </td>\n",
    "        <td> 4) $\\int\\limits_1^e {\\frac{{dx}}{{x(1 + {{\\ln }^2}x)}}}$ </td>\n",
    "    </tr>                \n",
    "    <tr>\n",
    "        <td> 5) $\\int\\limits_0^{\\pi /2} {{{\\cos }^3}\\alpha \\;d\\alpha }$ </td>\n",
    "        <td> 6) $\\int\\limits_0^{1/3} {c{h^2}3x\\;dx}$ </td>\n",
    "        <td> 7) $\\int\\limits_2^3 {\\frac{{dy}}{{{y^2} - 2y - 8}}dy}$ </td>\n",
    "        <td> 8) $\\int\\limits_{3/4}^2 {\\frac{{dx}}{{\\sqrt {2 + 3x - 2{x^2}} }}}$ </td>\n",
    "        <td> 9) $\\int\\limits_0^2 {\\frac{{2x - 1}}{{2x + 1}}dx}$ </td>\n",
    "        </tr>\n",
    "</table>"
   ]
  },
  {
   "cell_type": "code",
   "execution_count": 32,
   "metadata": {},
   "outputs": [
    {
     "name": "stdout",
     "output_type": "stream",
     "text": [
      "Variant: 9\n",
      "(0.3905521347234617, 4)\n",
      "(0.39056813472346164, 4)\n",
      "(0.3905617675660328, 2)\n",
      "(0.3905588356584965, 0)\n"
     ]
    }
   ],
   "source": [
    "import numpy as np\n",
    "\n",
    "def f(x):\n",
    "    return (2 * x - 1) / (2 * x + 1)\n",
    "\n",
    "def int_rectangle_left(f, a, b, step = 0.1):\n",
    "    X = np.linspace(a, b, int((b - a) / step) + 1)\n",
    "    return step * np.sum(f(X)[:len(X) - 1])\n",
    "    \n",
    "def int_rectangle_right(f, a, b, step = 0.1):\n",
    "    X = np.linspace(a, b, int((b - a) / step) + 1)\n",
    "    return step * np.sum(f(X)[1:])\n",
    "\n",
    "def int_trapezoid(f, a, b, step = 0.1):\n",
    "    X = np.linspace(a, b, int((b - a) / step) + 1)\n",
    "    f = f(X)\n",
    "    return step / 2 * (f[0] + 2 * np.sum(f[1 : len(X) - 1]) + f[-1])\n",
    "\n",
    "def int_Simpson(f, a, b, step = 0.1):\n",
    "    X = np.linspace(a, b, 2 * int((b - a) / step) + 1)\n",
    "    N = len(X) - 1\n",
    "    f = f(X)\n",
    "    return step / 6 * (f[0] + 2 * np.sum(f[2 : N : 2])  + 4 * np.sum(f[1 : N : 2]) + f[N])\n",
    "    \n",
    "def calc_int(int_method, f, a, b, start_step = 0.1, prec = 0.00001):\n",
    "    step = start_step\n",
    "    res = int_method(f, a, b, step)\n",
    "    c = 0\n",
    "    while abs(res - int_method(f, a, b, step / 10)) >= prec:\n",
    "        step /= 10\n",
    "        res = int_method(f, a, b, step)\n",
    "        c += 1\n",
    "    return res, c\n",
    "    \n",
    "if __name__ == '__main__':\n",
    "    np.random.seed(1032192939)\n",
    "    n = np.random.randint(10)\n",
    "    print('Variant:', n)\n",
    "    print(calc_int(int_rectangle_left, f, 0, 2))\n",
    "    print(calc_int(int_rectangle_right, f, 0, 2))\n",
    "    print(calc_int(int_trapezoid, f, 0, 2))\n",
    "    print(calc_int(int_Simpson, f, 0, 2))"
   ]
  },
  {
   "cell_type": "markdown",
   "metadata": {},
   "source": [
    "$\\int\\limits_0^2 {\\frac{{2x - 1}}{{2x + 1}}dx} = [t = 2x + 1] = {\\frac{1}{2}}\\int\\limits_1^5 {\\frac{{t - 2}}{{t}}dt} = {\\frac{1}{2}}\\int\\limits_1^5 {(1 - \\frac{2}{t})dt} = {\\frac{1}{2}}(\\int\\limits_1^5 {1dt} + 2\\int\\limits_1^5 {\\frac{1}{t}}) = {\\frac{1}{2}}(t - 2\\ln(|t|))\\Biggr|_{1}^{5} = {\\frac{1}{2}}(t - 2\\ln(t))\\Biggr|_{1}^{5} = {\\frac{1}{2}}([5 - 2\\ln(5)] - [1 - 2\\ln(1)]) = {\\frac{1}{2}}(4 - 2\\ln(5)) = 2 - \\ln(5) \\approx 0.390562$\n",
    "\n",
    "<p><b>Метод прямоугольника по левой стороне:</b> I = 0.3905521347234617, n = 4</p>\n",
    "<p><b>Метод прямоугольника по правой стороне:</b> I = 0.39056813472346164, n = 4</p>\n",
    "<p><b>Метод трапеции:</b> I = 0.3905617675660328, n = 2</p>\n",
    "<p><b>Метод симпсона:</b> I = 0.3905588356584965, n = 0</p>\n",
    "<p>I - значение определенного итеграла, n - количество итераций для достижения указанной чтоности при заданных параметрах</p>\n",
    "\n",
    "Как видно, метод трапеции дает более точный результат. Однако, метод Симпсона требует меньше шагов разбиения.\n",
    "\n",
    "Метод Симсона > метод трапецмм > метод прямоугольника по критерию отношения точности и энергоэффективности."
   ]
  },
  {
   "cell_type": "code",
   "execution_count": null,
   "metadata": {},
   "outputs": [],
   "source": []
  }
 ],
 "metadata": {
  "kernelspec": {
   "display_name": "Python 3",
   "language": "python",
   "name": "python3"
  },
  "language_info": {
   "codemirror_mode": {
    "name": "ipython",
    "version": 3
   },
   "file_extension": ".py",
   "mimetype": "text/x-python",
   "name": "python",
   "nbconvert_exporter": "python",
   "pygments_lexer": "ipython3",
   "version": "3.7.6"
  }
 },
 "nbformat": 4,
 "nbformat_minor": 2
}
